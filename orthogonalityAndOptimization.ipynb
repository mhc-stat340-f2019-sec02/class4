{
 "cells": [
  {
   "cell_type": "markdown",
   "metadata": {},
   "source": [
    "We saw that, given a model, the parameters that best explain the data can be found by minimizing the sum squares error **(SSE)**.\n",
    "SSE was written as a function of our parameters and minimized by taking the derivative with respect to each parameter.\n",
    "\n",
    "Our end result was the following equation\n",
    "\n",
    "$$\n",
    "  \\beta_{\\text{optimal}} = (X'X)^{-1}X'y.\n",
    "$$\n",
    "\n",
    "This was a calculus approach to finding optima. \n",
    "We can also understand optima, and arrive at this same equation, by using linear algebra."
   ]
  },
  {
   "cell_type": "markdown",
   "metadata": {},
   "source": [
    "## orthogonality\n",
    "\n",
    "Two vectors, $x$ and $y$ are perpendicular to one another, or **orthogonal**, if their inner product equals $0$\n",
    "\n",
    "$$\n",
    "    x'y = 0\n",
    "$$\n",
    "\n",
    "We can use the law of cosines to see why this is the case.\n",
    "The law of cosines says, give a triangle with edge-lengths $a$, $b$, and $c$, and the angle $\\gamma$ made by the vector $CA$ and $CB$, the edge-lengths are related like\n",
    "\n",
    "![alt text](./Triangle_with_notations_2.png)\n",
    "\n",
    "\n",
    "$$\n",
    "    C^2 = A^2+B^2 - 2AB\\cos(\\gamma)\n",
    "$$\n",
    "\n",
    "where capital letters denote the **length** of the triangle's sides.\n",
    "\n",
    "If we consider $a$ and $b$ vectors, then \n",
    "\n",
    "$$\n",
    "    c = a-b\n",
    "$$\n",
    "\n",
    "and the length of $c$ is\n",
    "\n",
    "\\begin{align}\n",
    "    c^2  = c'c &= [ a_{1} - b_{1} a_{2} - b_{2}]\n",
    "   \\left[\n",
    "     \\begin{array}{c} \n",
    "     a_{1} - b_{1}\\\\\n",
    "     a_{2} - b_{2}\\\\\n",
    "    \\end{array} \\right]\\\\\n",
    "    &= (a_{1} - b_{1})^2 + (a_{2} - b_{2})^2\\\\\n",
    "    & = (a_{1}^{2} + a_{2}^{2}) + (b_{1}^2 + b_{2}^2) - 2(a_{1}b_{1} + a_{2}b_{2})\n",
    "\\end{align}\n",
    "\n",
    "The above can be rewritten as the inner product of three vectors\n",
    "\n",
    "\\begin{align}\n",
    "   c^2 & = (a_{1}^{2} + a_{2}^{2}) + (b_{1}^2 + b_{2}^2) - 2(a_{1}b_{1} + a_{2}b_{2})\\\\\n",
    "   &=a'a + b'b - 2a'b\n",
    "\\end{align}\n",
    "then we can relate this vector equation to our original cosine law.\n",
    "\n",
    "$$\n",
    " a'a + b'b - 2a'b  = A^2+B^2 - 2AB\\cos(\\gamma)\n",
    "$$\n",
    "\n",
    "We see that $a'a$ corresponds to the the length $A$ squared and $b'b$ corresponds to the length $B$ squared.\n",
    "\n",
    "We define a vector's length\n",
    "\n",
    "$$\n",
    "||v|| = (v'v)^{1/2},\n",
    "$$\n",
    "\n",
    "and note that the length of a vector is always positive, and can only be zero if the vector has entries all zero.\n",
    "\n",
    "The last term then relates the inner product between a and b to their lengths and the cosine of the angle they make\n",
    "\n",
    "\\begin{align}\n",
    "- 2a'b &= - 2AB\\cos(\\gamma)\\\\\n",
    "   a'b &= AB\\cos(\\gamma)\\\\\n",
    "   a'b &= ||a||||b|| \\cos(\\gamma)\n",
    "\\end{align}\n",
    "\n",
    "if the inner product $a'b$ is zero\n",
    "\n",
    "\\begin{align}\n",
    "   0 &= ||a||||b|| \\cos(\\gamma)\n",
    "\\end{align}\n",
    "\n",
    "and assuming $a$ and $b$ are not zero vectors, it must be the case that $\\cos(\\gamma) = 0$ and this happens when $\\gamma = \\frac{\\pi}{2}$, a perpendicular (orthogonal) angle.\n",
    "\n"
   ]
  },
  {
   "cell_type": "markdown",
   "metadata": {},
   "source": [
    "## projection\n",
    "\n",
    "A vector $b$ is a **orthogonal** projection onto $a$ if the inner product between $b-a$ and $a$ is $0$.\n",
    "\n",
    "![alt text](./scalarProjection.png)\n",
    "\n",
    "We can derive a formula for this \"green\" vector.\n",
    "The goal is to find the number $\\omega$, in the same direction as $a$, so that $b-a$ and $a$ are orthogonal.\n",
    "\n",
    "\\begin{align}\n",
    "    (b-\\omega a)'(\\omega a) = \\omega b'a - \\omega^{2} a'a &= 0\\\\\n",
    "    b'a - \\omega a'a &=0\\\\\n",
    "    \\omega &= \\frac{b'a}{a'a}\n",
    "\\end{align}\n",
    "\n",
    "This value $\\omega = b'a \\Big / a'a$ is the distance along $a$ we need to travel until $a$ and $b-a$ are orthogonal to one another.\n",
    "\n",
    "\n"
   ]
  },
  {
   "cell_type": "markdown",
   "metadata": {},
   "source": [
    "## orthogonal projection as minimizer\n",
    "\n",
    "What does orthogonality and minima have to do with each other?\n",
    "\n",
    "\\begin{align}\n",
    "    ||y - p|| = (y-p)'(y-p) = y'y + p'p - 2y'p\n",
    "\\end{align}\n",
    "\n"
   ]
  },
  {
   "cell_type": "markdown",
   "metadata": {},
   "source": [
    "## reframing our problem in linear algebra"
   ]
  },
  {
   "cell_type": "markdown",
   "metadata": {},
   "source": [
    "## hat matrix"
   ]
  }
 ],
 "metadata": {
  "kernelspec": {
   "display_name": "R",
   "language": "R",
   "name": "ir"
  },
  "language_info": {
   "codemirror_mode": "r",
   "file_extension": ".r",
   "mimetype": "text/x-r-source",
   "name": "R",
   "pygments_lexer": "r",
   "version": "3.5.2"
  }
 },
 "nbformat": 4,
 "nbformat_minor": 2
}
